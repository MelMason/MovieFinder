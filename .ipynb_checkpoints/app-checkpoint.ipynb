{
 "cells": [
  {
   "cell_type": "code",
   "execution_count": null,
   "metadata": {},
   "outputs": [],
   "source": [
    "import pandas as pd\n",
    "import sqlalchemy\n",
    "from sqlalchemy import create_engine\n",
    "from sqlalchemy.ext.declarative import declarative_base\n",
    "from sqlalchemy.ext.automap import automap_base\n",
    "import psycopg2\n",
    "from flask import Flask, jsonify, render_template\n",
    "from flask_sqlalchemy import SQLAlchemy\n",
    "from config2 import pwrd"
   ]
  },
  {
   "cell_type": "code",
   "execution_count": null,
   "metadata": {},
   "outputs": [],
   "source": [
    "app = Flask(__name__)"
   ]
  },
  {
   "cell_type": "code",
   "execution_count": null,
   "metadata": {},
   "outputs": [],
   "source": [
    "#connect to local database and create engine\n",
    "DB_URL = \"postgresql+psycopg2://postgres:\"+ pwrd + \"@localhost:5432/movie_finder\"\n",
    "engine = create_engine(DB_URL)"
   ]
  },
  {
   "cell_type": "code",
   "execution_count": null,
   "metadata": {},
   "outputs": [],
   "source": [
    "#create engine connection\n",
    "conn = engine.connect()"
   ]
  },
  {
   "cell_type": "code",
   "execution_count": null,
   "metadata": {},
   "outputs": [],
   "source": [
    "app.config['SQLALCHEMY_DATABASE_URI'] = DB_URL\n",
    "app.config['SQLALCHEMY_TRACK_MODIFICATIONS'] = False \n",
    "app.config['DEBUG'] = True"
   ]
  },
  {
   "cell_type": "code",
   "execution_count": null,
   "metadata": {},
   "outputs": [],
   "source": [
    "db = SQLAlchemy(app)"
   ]
  },
  {
   "cell_type": "code",
   "execution_count": null,
   "metadata": {},
   "outputs": [],
   "source": [
    "# reflect an existing database into a new model\n",
    "Base = automap_base()"
   ]
  },
  {
   "cell_type": "code",
   "execution_count": null,
   "metadata": {},
   "outputs": [],
   "source": [
    "# reflect the tables\n",
    "Base.prepare(db.engine, reflect=True)"
   ]
  },
  {
   "cell_type": "code",
   "execution_count": null,
   "metadata": {},
   "outputs": [],
   "source": [
    "# Save references to the table\n",
    "movies = Base.classes.movies"
   ]
  },
  {
   "cell_type": "code",
   "execution_count": null,
   "metadata": {},
   "outputs": [],
   "source": [
    "#return homepage\n",
    "@app.route(\"/\")\n",
    "def index():\n",
    "    return render_template(\"index.html\")"
   ]
  },
  {
   "cell_type": "code",
   "execution_count": null,
   "metadata": {},
   "outputs": [],
   "source": [
    "@app.route(\"/movies/<genre>\")\n",
    "def movie_genre(genre):\n",
    "    \"\"\"Return the MetaData for a given sample.\"\"\"\n",
    "    sel = [\n",
    "        movies.Title,\n",
    "        movies.BoxOffice,\n",
    "        movies.Genre,\n",
    "        movies.Runtime,\n",
    "        movies.imdbVotes,\n",
    "        movies.IMDB,\n",
    "        movies.Rotten_Tomatoes,\n",
    "        movies.Metacritic,\n",
    "        movies.Wins,\n",
    "        movies.Nominations\n",
    "    ]\n",
    "\n",
    "    results = db.session.query(*sel).filter(movies.Genre.contains(genre)).all()\n",
    "\n",
    "    # Create a list of dictionaries from the filter results and jsonify\n",
    "    movie_list = []\n",
    "    for result in results:\n",
    "        movie_dict = {}\n",
    "        movie_dict[\"Title\"] = result[0]\n",
    "        movie_dict[\"BoxOffice\"] = result[1]\n",
    "        movie_dict[\"Genre\"] = result[2]\n",
    "        movie_dict[\"Runtime\"] = result[3]\n",
    "        movie_dict[\"imdbVotes\"] = result[4]\n",
    "        movie_dict[\"IMDB\"] = result[5]\n",
    "        movie_dict[\"Rotten_Tomatoes\"] = result[6]\n",
    "        movie_dict[\"Metacritic\"] = result[7]\n",
    "        movie_dict[\"Wins\"] = result[8]\n",
    "        movie_dict[\"Nominations\"] = result[9]\n",
    "        movie_list.append(movie_dict)\n",
    "        \n",
    "    return jsonify(movie_list)\n"
   ]
  },
  {
   "cell_type": "code",
   "execution_count": null,
   "metadata": {},
   "outputs": [],
   "source": [
    "@app.route(\"/selection/<film>\")\n",
    "def movie(film):\n",
    "    sel =[       \n",
    "        movies.Title,\n",
    "        movies.Poster,\n",
    "        movies.Rated,\n",
    "        movies.Year,\n",
    "        movies.Genre,\n",
    "        movies.Director,\n",
    "        movies.Actors,\n",
    "        movies.Plot,\n",
    "        movies.BoxOffice,\n",
    "        movies.Runtime,\n",
    "        movies.imdbVotes,\n",
    "        movies.IMDB,\n",
    "        movies.Rotten_Tomatoes,\n",
    "        movies.Metacritic,\n",
    "        movies.Wins,\n",
    "        movies.Nominations\n",
    "        ]\n",
    "    \n",
    "    results = db.session.query(*sel).filter(movies.Title == film).all()\n",
    "    \n",
    "    movie_dict = {}\n",
    "    for result in results:\n",
    "        movie_dict[\"Title\"] = result[0]\n",
    "        movie_dict[\"Poster\"] = result[1]\n",
    "        movie_dict[\"Rated\"] = result[2]\n",
    "        movie_dict[\"Year\"] = result[3]\n",
    "        movie_dict[\"Genre\"] = result[4]\n",
    "        movie_dict[\"Director\"] = result[5]\n",
    "        movie_dict[\"Actors\"] = result[6]\n",
    "        movie_dict[\"Plot\"] = result[7]\n",
    "        movie_dict[\"BoxOffice\"] = result[8]\n",
    "        movie_dict[\"Runtime\"] = result[9]\n",
    "        movie_dict[\"imdbVotes\"] = result[10]\n",
    "        movie_dict[\"IMDB\"] = result[11]\n",
    "        movie_dict[\"Rotten_Tomatoes\"] = result[12]\n",
    "        movie_dict[\"Metacritic\"] = result[13]\n",
    "        movie_dict[\"Wins\"] = result[14]\n",
    "        movie_dict[\"Nominations\"] = result[15]\n",
    "    \n",
    "    return jsonify(movie_dict)"
   ]
  },
  {
   "cell_type": "code",
   "execution_count": null,
   "metadata": {},
   "outputs": [],
   "source": [
    "if __name__ == \"__main__\":\n",
    "    app.run()"
   ]
  },
  {
   "cell_type": "code",
   "execution_count": null,
   "metadata": {},
   "outputs": [],
   "source": []
  }
 ],
 "metadata": {
  "kernelspec": {
   "display_name": "Python 3",
   "language": "python",
   "name": "python3"
  },
  "language_info": {
   "codemirror_mode": {
    "name": "ipython",
    "version": 3
   },
   "file_extension": ".py",
   "mimetype": "text/x-python",
   "name": "python",
   "nbconvert_exporter": "python",
   "pygments_lexer": "ipython3",
   "version": "3.7.3"
  }
 },
 "nbformat": 4,
 "nbformat_minor": 2
}
